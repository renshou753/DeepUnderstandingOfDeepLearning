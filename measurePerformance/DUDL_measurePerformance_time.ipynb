{
 "cells": [
  {
   "cell_type": "markdown",
   "metadata": {
    "id": "bhWV8oes-wKR"
   },
   "source": [
    "# COURSE: A deep understanding of deep learning\n",
    "## SECTION: Measuring model performance\n",
    "### LECTURE: Computation time\n",
    "#### TEACHER: Mike X Cohen, sincxpress.com\n",
    "##### COURSE URL: udemy.com/course/deeplearning_x/?couponCode=202401"
   ]
  },
  {
   "cell_type": "code",
   "execution_count": 1,
   "metadata": {
    "id": "YeuAheYyhdZw"
   },
   "outputs": [],
   "source": [
    "# import libraries\n",
    "import numpy as np\n",
    "\n",
    "import torch\n",
    "import torch.nn as nn\n",
    "import torch.nn.functional as F\n",
    "from torch.utils.data import DataLoader\n",
    "from sklearn.model_selection import train_test_split\n",
    "\n",
    "# New!\n",
    "import time\n",
    "# Well, OK, it's not really new. See, e.g., DUDL_metaparams_CodeChallengeBatches\n",
    "\n",
    "import matplotlib.pyplot as plt\n",
    "import matplotlib_inline.backend_inline\n",
    "matplotlib_inline.backend_inline.set_matplotlib_formats('svg')"
   ]
  },
  {
   "cell_type": "markdown",
   "metadata": {
    "id": "0HOkOefftqyg"
   },
   "source": [
    "# Import and process the data"
   ]
  },
  {
   "cell_type": "code",
   "execution_count": 2,
   "metadata": {
    "id": "MU7rvmWuhjud"
   },
   "outputs": [],
   "source": [
    "# import dataset (comes with colab!)\n",
    "data = np.loadtxt(open('sample_data/mnist_train_small.csv','rb'),delimiter=',')\n",
    "\n",
    "# extract labels (number IDs) and remove from data\n",
    "labels = data[:,0]\n",
    "data   = data[:,1:]\n",
    "\n",
    "# normalize the data to a range of [0 1]\n",
    "dataNorm = data / np.max(data)"
   ]
  },
  {
   "cell_type": "markdown",
   "metadata": {
    "id": "OhLQ2YSvpiGj"
   },
   "source": [
    "# Create train/test groups using DataLoader"
   ]
  },
  {
   "cell_type": "code",
   "execution_count": 3,
   "metadata": {
    "id": "Y_tZ1ymVp0Sf"
   },
   "outputs": [],
   "source": [
    "# Step 1: convert to tensor\n",
    "dataT   = torch.tensor( dataNorm ).float()\n",
    "labelsT = torch.tensor( labels ).long()\n",
    "\n",
    "# Step 2: use scikitlearn to split the data\n",
    "train_data,test_data, train_labels,test_labels = train_test_split(dataT, labelsT, test_size=.1)\n",
    "\n",
    "\n",
    "# Step 3: convert into PyTorch Datasets\n",
    "train_data = torch.utils.data.TensorDataset(train_data,train_labels)\n",
    "test_data  = torch.utils.data.TensorDataset(test_data,test_labels)\n",
    "\n",
    "# Step 4: translate into dataloader objects\n",
    "batchsize  = 32\n",
    "train_loader = DataLoader(train_data,batch_size=batchsize,shuffle=True,drop_last=True)\n",
    "test_loader  = DataLoader(test_data,batch_size=test_data.tensors[0].shape[0])"
   ]
  },
  {
   "cell_type": "markdown",
   "metadata": {
    "id": "OK8Opkhgp0bO"
   },
   "source": [
    "# Create the DL model"
   ]
  },
  {
   "cell_type": "code",
   "execution_count": 4,
   "metadata": {
    "id": "JK3OO3tAtZkA"
   },
   "outputs": [],
   "source": [
    "# create a class for the model\n",
    "def createTheMNISTNet():\n",
    "\n",
    "  class mnistNet(nn.Module):\n",
    "    def __init__(self):\n",
    "      super().__init__()\n",
    "\n",
    "      ### input layer\n",
    "      self.input = nn.Linear(784,64)\n",
    "      \n",
    "      ### hidden layer\n",
    "      self.fc1 = nn.Linear(64,32)\n",
    "      self.fc2 = nn.Linear(32,32)\n",
    "\n",
    "      ### output layer\n",
    "      self.output = nn.Linear(32,10)\n",
    "\n",
    "    # forward pass\n",
    "    def forward(self,x):\n",
    "      x = F.relu( self.input(x) )\n",
    "      x = F.relu( self.fc1(x) )\n",
    "      x = F.relu( self.fc2(x) )\n",
    "      return self.output(x)\n",
    "  \n",
    "  # create the model instance\n",
    "  net = mnistNet()\n",
    "  \n",
    "  # loss function\n",
    "  lossfun = nn.CrossEntropyLoss()\n",
    "\n",
    "  # optimizer\n",
    "  optimizer = torch.optim.Adam(net.parameters(),lr=.01)\n",
    "\n",
    "  return net,lossfun,optimizer"
   ]
  },
  {
   "cell_type": "markdown",
   "metadata": {
    "id": "dvfGQIRGp0ht"
   },
   "source": [
    "# Create a function that trains the model"
   ]
  },
  {
   "cell_type": "code",
   "execution_count": 5,
   "metadata": {
    "id": "IblJo1NCp0kl"
   },
   "outputs": [],
   "source": [
    "def function2trainTheModel():\n",
    "\n",
    "  # Start the timer!\n",
    "  timerInFunction = time.process_time()\n",
    "\n",
    "  # number of epochs\n",
    "  numepochs = 10\n",
    "  \n",
    "  # create a new model\n",
    "  net,lossfun,optimizer = createTheMNISTNet()\n",
    "\n",
    "  # initialize losses\n",
    "  losses    = torch.zeros(numepochs)\n",
    "  trainAcc  = []\n",
    "  testAcc   = []\n",
    "\n",
    "\n",
    "  # loop over epochs\n",
    "  for epochi in range(numepochs):\n",
    "\n",
    "    # loop over training data batches\n",
    "    batchAcc  = []\n",
    "    batchLoss = []\n",
    "    for X,y in train_loader:\n",
    "\n",
    "      # forward pass and loss\n",
    "      yHat = net(X)\n",
    "      loss = lossfun(yHat,y)\n",
    "\n",
    "      # backprop\n",
    "      optimizer.zero_grad()\n",
    "      loss.backward()\n",
    "      optimizer.step()\n",
    "\n",
    "      # loss from this batch\n",
    "      batchLoss.append(loss.item())\n",
    "\n",
    "      # compute accuracy\n",
    "      matches = torch.argmax(yHat,axis=1) == y     # booleans (false/true)\n",
    "      matchesNumeric = matches.float()             # convert to numbers (0/1)\n",
    "      accuracyPct = 100*torch.mean(matchesNumeric) # average and x100\n",
    "      batchAcc.append( accuracyPct )               # add to list of accuracies\n",
    "    # end of batch loop...\n",
    "\n",
    "    # now that we've trained through the batches, get their average training accuracy\n",
    "    trainAcc.append( np.mean(batchAcc) )\n",
    "\n",
    "    # and get average losses across the batches\n",
    "    losses[epochi] = np.mean(batchLoss)\n",
    "\n",
    "    # test accuracy\n",
    "    X,y = next(iter(test_loader)) # extract X,y from test dataloader\n",
    "    with torch.no_grad(): # deactivates autograd\n",
    "      yHat = net(X)\n",
    "      \n",
    "    # compare the following really long line of code to the training accuracy lines\n",
    "    testAcc.append( 100*torch.mean((torch.argmax(yHat,axis=1)==y).float()) )\n",
    "\n",
    "    # Finally, report the epoch number, computation time, and accuracy\n",
    "    comptime = time.process_time() - timerInFunction\n",
    "    print(f'Epoch {epochi+1}/{numepochs}, elapsed time: {comptime:.2f} sec, test accuracy {testAcc[-1]:.0f}%')\n",
    "\n",
    "  # end epochs\n",
    "\n",
    "  # function output\n",
    "  return trainAcc,testAcc,losses,net"
   ]
  },
  {
   "cell_type": "markdown",
   "metadata": {
    "id": "XpGm9xdQ27Ob"
   },
   "source": [
    "# Run the model and show the results!"
   ]
  },
  {
   "cell_type": "code",
   "execution_count": 6,
   "metadata": {
    "id": "l9pCC1R2p0nu"
   },
   "outputs": [
    {
     "name": "stdout",
     "output_type": "stream",
     "text": [
      "Epoch 1/10, elapsed time: 5.51 sec, test accuracy 93%\n",
      "Epoch 2/10, elapsed time: 11.05 sec, test accuracy 93%\n",
      "Epoch 3/10, elapsed time: 16.43 sec, test accuracy 93%\n",
      "Epoch 4/10, elapsed time: 21.79 sec, test accuracy 95%\n",
      "Epoch 5/10, elapsed time: 27.52 sec, test accuracy 94%\n",
      "Epoch 6/10, elapsed time: 32.87 sec, test accuracy 94%\n",
      "Epoch 7/10, elapsed time: 44.13 sec, test accuracy 95%\n",
      "Epoch 8/10, elapsed time: 58.84 sec, test accuracy 95%\n",
      "Epoch 9/10, elapsed time: 73.71 sec, test accuracy 95%\n",
      "Epoch 10/10, elapsed time: 88.92 sec, test accuracy 94%\n"
     ]
    }
   ],
   "source": [
    "trainAcc,testAcc,losses,net = function2trainTheModel()"
   ]
  },
  {
   "cell_type": "code",
   "execution_count": 7,
   "metadata": {
    "id": "gHzKOZjnp0qn"
   },
   "outputs": [
    {
     "name": "stdout",
     "output_type": "stream",
     "text": [
      "Epoch 1/10, elapsed time: 10.18 sec, test accuracy 89%\n",
      "Epoch 2/10, elapsed time: 21.90 sec, test accuracy 93%\n",
      "Epoch 3/10, elapsed time: 34.68 sec, test accuracy 92%\n",
      "Epoch 4/10, elapsed time: 47.49 sec, test accuracy 93%\n",
      "Epoch 5/10, elapsed time: 60.59 sec, test accuracy 94%\n",
      "Epoch 6/10, elapsed time: 74.06 sec, test accuracy 91%\n",
      "Epoch 7/10, elapsed time: 87.22 sec, test accuracy 95%\n",
      "Epoch 8/10, elapsed time: 100.24 sec, test accuracy 95%\n",
      "Epoch 9/10, elapsed time: 106.89 sec, test accuracy 95%\n",
      "Epoch 10/10, elapsed time: 120.84 sec, test accuracy 96%\n",
      "Epoch 1/10, elapsed time: 10.23 sec, test accuracy 93%\n",
      "Epoch 2/10, elapsed time: 22.87 sec, test accuracy 94%\n",
      "Epoch 3/10, elapsed time: 36.75 sec, test accuracy 93%\n",
      "Epoch 4/10, elapsed time: 43.91 sec, test accuracy 93%\n",
      "Epoch 5/10, elapsed time: 49.33 sec, test accuracy 94%\n",
      "Epoch 6/10, elapsed time: 54.91 sec, test accuracy 94%\n",
      "Epoch 7/10, elapsed time: 60.42 sec, test accuracy 94%\n",
      "Epoch 8/10, elapsed time: 66.94 sec, test accuracy 93%\n",
      "Epoch 9/10, elapsed time: 72.25 sec, test accuracy 95%\n",
      "Epoch 10/10, elapsed time: 77.67 sec, test accuracy 95%\n",
      "Epoch 1/10, elapsed time: 4.83 sec, test accuracy 91%\n",
      "Epoch 2/10, elapsed time: 10.33 sec, test accuracy 93%\n",
      "Epoch 3/10, elapsed time: 16.12 sec, test accuracy 94%\n",
      "Epoch 4/10, elapsed time: 21.96 sec, test accuracy 94%\n",
      "Epoch 5/10, elapsed time: 27.62 sec, test accuracy 94%\n",
      "Epoch 6/10, elapsed time: 33.14 sec, test accuracy 94%\n",
      "Epoch 7/10, elapsed time: 38.68 sec, test accuracy 95%\n",
      "Epoch 8/10, elapsed time: 44.39 sec, test accuracy 95%\n",
      "Epoch 9/10, elapsed time: 55.32 sec, test accuracy 95%\n",
      "Epoch 10/10, elapsed time: 65.91 sec, test accuracy 95%\n",
      "Epoch 1/10, elapsed time: 4.94 sec, test accuracy 92%\n",
      "Epoch 2/10, elapsed time: 12.99 sec, test accuracy 93%\n",
      "Epoch 3/10, elapsed time: 21.86 sec, test accuracy 94%\n",
      "Epoch 4/10, elapsed time: 35.37 sec, test accuracy 94%\n",
      "Epoch 5/10, elapsed time: 50.28 sec, test accuracy 94%\n",
      "Epoch 6/10, elapsed time: 65.02 sec, test accuracy 95%\n",
      "Epoch 7/10, elapsed time: 74.95 sec, test accuracy 95%\n",
      "Epoch 8/10, elapsed time: 84.27 sec, test accuracy 94%\n",
      "Epoch 9/10, elapsed time: 93.70 sec, test accuracy 94%\n",
      "Epoch 10/10, elapsed time: 103.16 sec, test accuracy 95%\n",
      "Epoch 1/10, elapsed time: 5.68 sec, test accuracy 93%\n",
      "Epoch 2/10, elapsed time: 12.08 sec, test accuracy 93%\n",
      "Epoch 3/10, elapsed time: 21.30 sec, test accuracy 94%\n",
      "Epoch 4/10, elapsed time: 33.63 sec, test accuracy 95%\n",
      "Epoch 5/10, elapsed time: 41.94 sec, test accuracy 94%\n",
      "Epoch 6/10, elapsed time: 47.47 sec, test accuracy 94%\n",
      "Epoch 7/10, elapsed time: 52.84 sec, test accuracy 95%\n",
      "Epoch 8/10, elapsed time: 62.10 sec, test accuracy 94%\n",
      "Epoch 9/10, elapsed time: 73.56 sec, test accuracy 94%\n",
      "Epoch 10/10, elapsed time: 82.79 sec, test accuracy 95%\n",
      "Epoch 1/10, elapsed time: 8.47 sec, test accuracy 92%\n",
      "Epoch 2/10, elapsed time: 17.89 sec, test accuracy 91%\n",
      "Epoch 3/10, elapsed time: 32.67 sec, test accuracy 93%\n",
      "Epoch 4/10, elapsed time: 48.13 sec, test accuracy 94%\n",
      "Epoch 5/10, elapsed time: 57.64 sec, test accuracy 95%\n",
      "Epoch 6/10, elapsed time: 67.02 sec, test accuracy 94%\n",
      "Epoch 7/10, elapsed time: 76.60 sec, test accuracy 94%\n",
      "Epoch 8/10, elapsed time: 86.16 sec, test accuracy 94%\n",
      "Epoch 9/10, elapsed time: 95.95 sec, test accuracy 93%\n",
      "Epoch 10/10, elapsed time: 108.57 sec, test accuracy 94%\n",
      "Epoch 1/10, elapsed time: 4.87 sec, test accuracy 92%\n",
      "Epoch 2/10, elapsed time: 14.69 sec, test accuracy 92%\n",
      "Epoch 3/10, elapsed time: 27.52 sec, test accuracy 94%\n",
      "Epoch 4/10, elapsed time: 41.75 sec, test accuracy 94%\n",
      "Epoch 5/10, elapsed time: 56.07 sec, test accuracy 94%\n",
      "Epoch 6/10, elapsed time: 70.54 sec, test accuracy 94%\n",
      "Epoch 7/10, elapsed time: 85.27 sec, test accuracy 93%\n",
      "Epoch 8/10, elapsed time: 92.38 sec, test accuracy 95%\n",
      "Epoch 9/10, elapsed time: 98.17 sec, test accuracy 95%\n",
      "Epoch 10/10, elapsed time: 103.90 sec, test accuracy 94%\n",
      "Epoch 1/10, elapsed time: 4.69 sec, test accuracy 92%\n",
      "Epoch 2/10, elapsed time: 16.76 sec, test accuracy 94%\n",
      "Epoch 3/10, elapsed time: 29.87 sec, test accuracy 95%\n",
      "Epoch 4/10, elapsed time: 43.35 sec, test accuracy 94%\n",
      "Epoch 5/10, elapsed time: 57.02 sec, test accuracy 94%\n",
      "Epoch 6/10, elapsed time: 70.66 sec, test accuracy 94%\n",
      "Epoch 7/10, elapsed time: 85.02 sec, test accuracy 95%\n",
      "Epoch 8/10, elapsed time: 99.53 sec, test accuracy 95%\n",
      "Epoch 9/10, elapsed time: 114.12 sec, test accuracy 96%\n",
      "Epoch 10/10, elapsed time: 128.69 sec, test accuracy 95%\n",
      "Epoch 1/10, elapsed time: 10.14 sec, test accuracy 92%\n",
      "Epoch 2/10, elapsed time: 18.57 sec, test accuracy 94%\n",
      "Epoch 3/10, elapsed time: 27.79 sec, test accuracy 94%\n",
      "Epoch 4/10, elapsed time: 36.67 sec, test accuracy 94%\n",
      "Epoch 5/10, elapsed time: 46.24 sec, test accuracy 94%\n",
      "Epoch 6/10, elapsed time: 61.73 sec, test accuracy 95%\n",
      "Epoch 7/10, elapsed time: 77.31 sec, test accuracy 94%\n",
      "Epoch 8/10, elapsed time: 93.07 sec, test accuracy 95%\n",
      "Epoch 9/10, elapsed time: 108.90 sec, test accuracy 94%\n",
      "Epoch 10/10, elapsed time: 124.90 sec, test accuracy 95%\n",
      "Epoch 1/10, elapsed time: 10.27 sec, test accuracy 93%\n",
      "Epoch 2/10, elapsed time: 23.61 sec, test accuracy 94%\n",
      "Epoch 3/10, elapsed time: 37.96 sec, test accuracy 94%\n",
      "Epoch 4/10, elapsed time: 46.64 sec, test accuracy 95%\n",
      "Epoch 5/10, elapsed time: 56.79 sec, test accuracy 95%\n",
      "Epoch 6/10, elapsed time: 65.43 sec, test accuracy 95%\n",
      "Epoch 7/10, elapsed time: 78.35 sec, test accuracy 95%\n",
      "Epoch 8/10, elapsed time: 93.11 sec, test accuracy 95%\n",
      "Epoch 9/10, elapsed time: 100.03 sec, test accuracy 95%\n",
      "Epoch 10/10, elapsed time: 105.49 sec, test accuracy 96%\n",
      "\n",
      "\n",
      "\n",
      "Total elapsed experiment time: 17.03 minutes\n"
     ]
    }
   ],
   "source": [
    "# now run a second timer over repeated iterations\n",
    "\n",
    "# Start the timer! (note the different variable name)\n",
    "timerOutsideFunction = time.process_time()\n",
    "\n",
    "for i in range(10):\n",
    "  function2trainTheModel()\n",
    "\n",
    "TotalExperimentTime = time.process_time() - timerOutsideFunction\n",
    "print(f'\\n\\n\\nTotal elapsed experiment time: {TotalExperimentTime/60:.2f} minutes')"
   ]
  },
  {
   "cell_type": "code",
   "execution_count": null,
   "metadata": {
    "id": "VOsqp9Dosb1i"
   },
   "outputs": [],
   "source": []
  },
  {
   "cell_type": "markdown",
   "metadata": {
    "id": "7KP-981UsbjS"
   },
   "source": [
    "# Additional explorations"
   ]
  },
  {
   "cell_type": "code",
   "execution_count": null,
   "metadata": {
    "id": "JdnIdmBjsd2U"
   },
   "outputs": [],
   "source": [
    "# 1) Modify the TotalExperimentTime code so that it prints minutes and seconds. For example, 500 seconds is \n",
    "#    8 minutes and 20 seconds.\n",
    "# \n",
    "# 2) Modify the code inside the training function so that the display prints on only every 5th epoch.\n",
    "# "
   ]
  }
 ],
 "metadata": {
  "colab": {
   "authorship_tag": "ABX9TyOLT4hQ9ERrLRzD5qIzpfY0",
   "provenance": [
    {
     "file_id": "13SFr82QoaJr9so_o_rSl1L9WbOMXpUSR",
     "timestamp": 1618861176115
    },
    {
     "file_id": "1FcEBC0NAESIlHQkv6_85R-XDUKGE8XbM",
     "timestamp": 1618848117844
    },
    {
     "file_id": "1qKgZ8kVcqNgwtBzHbWq5yJH_HqI6DxWW",
     "timestamp": 1617803880910
    },
    {
     "file_id": "15cpyHkJ435B4MqbyGjAH1poN4nCy_DE4",
     "timestamp": 1617737766196
    },
    {
     "file_id": "1OLuWuaFu0hcFgkQ2hh5BqbRuqUZD7XcQ",
     "timestamp": 1617734878578
    },
    {
     "file_id": "1XvzVGJPTJifVh8OpZVB7ykLxyUqYwQ1j",
     "timestamp": 1617196833019
    },
    {
     "file_id": "1bv1_y32e3KEExFKKlPfC3rpw1JxmBr8H",
     "timestamp": 1617124341706
    },
    {
     "file_id": "1GMq8u7KyHB2AE7Teyls9gK1T01OduQSn",
     "timestamp": 1616697516760
    },
    {
     "file_id": "1Ui3kyHim-e0XLgDs2mkBxVlYg7TKYtcg",
     "timestamp": 1616615469755
    },
    {
     "file_id": "1YpHocGI4rApOxIBb1ZghCU5L-hFnv4CK",
     "timestamp": 1616608248670
    }
   ]
  },
  "kernelspec": {
   "display_name": "deepunderstandingofdeeplearning",
   "language": "python",
   "name": "python3"
  },
  "language_info": {
   "codemirror_mode": {
    "name": "ipython",
    "version": 3
   },
   "file_extension": ".py",
   "mimetype": "text/x-python",
   "name": "python",
   "nbconvert_exporter": "python",
   "pygments_lexer": "ipython3",
   "version": "3.12.8"
  }
 },
 "nbformat": 4,
 "nbformat_minor": 0
}
